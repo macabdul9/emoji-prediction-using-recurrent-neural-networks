{
  "nbformat": 4,
  "nbformat_minor": 0,
  "metadata": {
    "colab": {
      "name": "emoji-prediction.ipynb",
      "version": "0.3.2",
      "provenance": [],
      "include_colab_link": true
    },
    "kernelspec": {
      "name": "python2",
      "display_name": "Python 2"
    },
    "accelerator": "GPU"
  },
  "cells": [
    {
      "cell_type": "markdown",
      "metadata": {
        "id": "view-in-github",
        "colab_type": "text"
      },
      "source": [
        "<a href=\"https://colab.research.google.com/github/macabdul9/emoji-prediction-using-recurrent-neural-networks/blob/master/emoji_prediction.ipynb\" target=\"_parent\"><img src=\"https://colab.research.google.com/assets/colab-badge.svg\" alt=\"Open In Colab\"/></a>"
      ]
    },
    {
      "cell_type": "code",
      "metadata": {
        "id": "o7yizk_PKm1u",
        "colab_type": "code",
        "colab": {}
      },
      "source": [
        "import warnings\n",
        "warnings.filterwarnings('ignore')"
      ],
      "execution_count": 0,
      "outputs": []
    },
    {
      "cell_type": "code",
      "metadata": {
        "id": "Gb7blbxt727D",
        "colab_type": "code",
        "colab": {}
      },
      "source": [
        "from google.colab import drive\n",
        "drive.mount('/content/drive')"
      ],
      "execution_count": 0,
      "outputs": []
    },
    {
      "cell_type": "code",
      "metadata": {
        "id": "6pPq2esy74TX",
        "colab_type": "code",
        "colab": {
          "base_uri": "https://localhost:8080/",
          "height": 86
        },
        "outputId": "b4745fff-3d54-41b4-d422-c1a251c5a4d5"
      },
      "source": [
        "!unzip drive/My\\ Drive/emoji"
      ],
      "execution_count": 14,
      "outputs": [
        {
          "output_type": "stream",
          "text": [
            "Archive:  drive/My Drive/emoji.zip\n",
            "   creating: emoji/\n",
            "  inflating: emoji/test_emoji.csv    \n",
            "  inflating: emoji/train_emoji.csv   \n"
          ],
          "name": "stdout"
        }
      ]
    },
    {
      "cell_type": "code",
      "metadata": {
        "id": "8w2Lt8T3Kcva",
        "colab_type": "code",
        "colab": {}
      },
      "source": [
        "# !pip install emoji"
      ],
      "execution_count": 0,
      "outputs": []
    },
    {
      "cell_type": "code",
      "metadata": {
        "id": "sGllfqygH_9v",
        "colab_type": "code",
        "colab": {}
      },
      "source": [
        "import emoji"
      ],
      "execution_count": 0,
      "outputs": []
    },
    {
      "cell_type": "code",
      "metadata": {
        "id": "uhSIo2IwKx77",
        "colab_type": "code",
        "colab": {}
      },
      "source": [
        "emoji_dict = {\n",
        "    0:\":beating_heart:\",\n",
        "    1:\":baseball:\",\n",
        "    2:\":beaming_face_with_smiling_eyes:\",\n",
        "    3:\":disappointed_face:\",\n",
        "    4:\":fork_and_knife:\"    \n",
        "}"
      ],
      "execution_count": 0,
      "outputs": []
    },
    {
      "cell_type": "code",
      "metadata": {
        "id": "NFf6zgtz7u5p",
        "colab_type": "code",
        "colab": {
          "base_uri": "https://localhost:8080/",
          "height": 104
        },
        "outputId": "17732d8d-8e1c-4765-8bba-ab94f98d7266"
      },
      "source": [
        "for each in emoji_dict.values():\n",
        "  print(emoji.emojize(each))"
      ],
      "execution_count": 16,
      "outputs": [
        {
          "output_type": "stream",
          "text": [
            "💓\n",
            "⚾\n",
            "😁\n",
            "😞\n",
            "🍴\n"
          ],
          "name": "stdout"
        }
      ]
    },
    {
      "cell_type": "code",
      "metadata": {
        "id": "L1njKqV69Cl1",
        "colab_type": "code",
        "colab": {}
      },
      "source": [
        "import pandas as pd\n",
        "import numpy as np"
      ],
      "execution_count": 0,
      "outputs": []
    },
    {
      "cell_type": "code",
      "metadata": {
        "id": "gDf_rvIU9hJw",
        "colab_type": "code",
        "colab": {}
      },
      "source": [
        "test = pd.read_csv('emoji/test_emoji.csv', header=None)\n",
        "train = pd.read_csv('emoji/train_emoji.csv', header=None)"
      ],
      "execution_count": 0,
      "outputs": []
    },
    {
      "cell_type": "code",
      "metadata": {
        "id": "nVGmvNC29scu",
        "colab_type": "code",
        "colab": {
          "base_uri": "https://localhost:8080/",
          "height": 206
        },
        "outputId": "9156fd2c-132b-4198-adea-7346ee3f6b66"
      },
      "source": [
        "test.head()"
      ],
      "execution_count": 128,
      "outputs": [
        {
          "output_type": "execute_result",
          "data": {
            "text/html": [
              "<div>\n",
              "<style scoped>\n",
              "    .dataframe tbody tr th:only-of-type {\n",
              "        vertical-align: middle;\n",
              "    }\n",
              "\n",
              "    .dataframe tbody tr th {\n",
              "        vertical-align: top;\n",
              "    }\n",
              "\n",
              "    .dataframe thead th {\n",
              "        text-align: right;\n",
              "    }\n",
              "</style>\n",
              "<table border=\"1\" class=\"dataframe\">\n",
              "  <thead>\n",
              "    <tr style=\"text-align: right;\">\n",
              "      <th></th>\n",
              "      <th>0</th>\n",
              "      <th>1</th>\n",
              "    </tr>\n",
              "  </thead>\n",
              "  <tbody>\n",
              "    <tr>\n",
              "      <th>0</th>\n",
              "      <td>I want to eat\\t</td>\n",
              "      <td>4</td>\n",
              "    </tr>\n",
              "    <tr>\n",
              "      <th>1</th>\n",
              "      <td>he did not answer\\t</td>\n",
              "      <td>3</td>\n",
              "    </tr>\n",
              "    <tr>\n",
              "      <th>2</th>\n",
              "      <td>he got a raise\\t</td>\n",
              "      <td>2</td>\n",
              "    </tr>\n",
              "    <tr>\n",
              "      <th>3</th>\n",
              "      <td>she got me a present\\t</td>\n",
              "      <td>0</td>\n",
              "    </tr>\n",
              "    <tr>\n",
              "      <th>4</th>\n",
              "      <td>ha ha ha it was so funny\\t</td>\n",
              "      <td>2</td>\n",
              "    </tr>\n",
              "  </tbody>\n",
              "</table>\n",
              "</div>"
            ],
            "text/plain": [
              "                            0  1\n",
              "0             I want to eat\\t  4\n",
              "1         he did not answer\\t  3\n",
              "2            he got a raise\\t  2\n",
              "3      she got me a present\\t  0\n",
              "4  ha ha ha it was so funny\\t  2"
            ]
          },
          "metadata": {
            "tags": []
          },
          "execution_count": 128
        }
      ]
    },
    {
      "cell_type": "code",
      "metadata": {
        "id": "gQIPenVh9uL_",
        "colab_type": "code",
        "colab": {
          "base_uri": "https://localhost:8080/",
          "height": 206
        },
        "outputId": "fde6d9d9-f8fc-473c-e4d4-f825f8e0fd64"
      },
      "source": [
        "train.head()"
      ],
      "execution_count": 129,
      "outputs": [
        {
          "output_type": "execute_result",
          "data": {
            "text/html": [
              "<div>\n",
              "<style scoped>\n",
              "    .dataframe tbody tr th:only-of-type {\n",
              "        vertical-align: middle;\n",
              "    }\n",
              "\n",
              "    .dataframe tbody tr th {\n",
              "        vertical-align: top;\n",
              "    }\n",
              "\n",
              "    .dataframe thead th {\n",
              "        text-align: right;\n",
              "    }\n",
              "</style>\n",
              "<table border=\"1\" class=\"dataframe\">\n",
              "  <thead>\n",
              "    <tr style=\"text-align: right;\">\n",
              "      <th></th>\n",
              "      <th>0</th>\n",
              "      <th>1</th>\n",
              "      <th>2</th>\n",
              "      <th>3</th>\n",
              "    </tr>\n",
              "  </thead>\n",
              "  <tbody>\n",
              "    <tr>\n",
              "      <th>0</th>\n",
              "      <td>never talk to me again</td>\n",
              "      <td>3</td>\n",
              "      <td>NaN</td>\n",
              "      <td>NaN</td>\n",
              "    </tr>\n",
              "    <tr>\n",
              "      <th>1</th>\n",
              "      <td>I am proud of your achievements</td>\n",
              "      <td>2</td>\n",
              "      <td>NaN</td>\n",
              "      <td>NaN</td>\n",
              "    </tr>\n",
              "    <tr>\n",
              "      <th>2</th>\n",
              "      <td>It is the worst day in my life</td>\n",
              "      <td>3</td>\n",
              "      <td>NaN</td>\n",
              "      <td>NaN</td>\n",
              "    </tr>\n",
              "    <tr>\n",
              "      <th>3</th>\n",
              "      <td>Miss you so much</td>\n",
              "      <td>0</td>\n",
              "      <td>NaN</td>\n",
              "      <td>[0]</td>\n",
              "    </tr>\n",
              "    <tr>\n",
              "      <th>4</th>\n",
              "      <td>food is life</td>\n",
              "      <td>4</td>\n",
              "      <td>NaN</td>\n",
              "      <td>NaN</td>\n",
              "    </tr>\n",
              "  </tbody>\n",
              "</table>\n",
              "</div>"
            ],
            "text/plain": [
              "                                 0  1   2     3\n",
              "0           never talk to me again  3 NaN   NaN\n",
              "1  I am proud of your achievements  2 NaN   NaN\n",
              "2   It is the worst day in my life  3 NaN   NaN\n",
              "3                 Miss you so much  0 NaN   [0]\n",
              "4                     food is life  4 NaN   NaN"
            ]
          },
          "metadata": {
            "tags": []
          },
          "execution_count": 129
        }
      ]
    },
    {
      "cell_type": "code",
      "metadata": {
        "id": "wi-0PHfL-IYj",
        "colab_type": "code",
        "colab": {}
      },
      "source": [
        "train_sentences = train[0]\n",
        "train_labels = train[1]\n",
        "test_sentences = test[0]\n",
        "test_labels = test[1]"
      ],
      "execution_count": 0,
      "outputs": []
    },
    {
      "cell_type": "code",
      "metadata": {
        "id": "a3SrTcSy-J7u",
        "colab_type": "code",
        "colab": {
          "base_uri": "https://localhost:8080/",
          "height": 191
        },
        "outputId": "a60fca9e-5d45-427f-ea78-8a856645fd5b"
      },
      "source": [
        "for i in range(5):\n",
        "  print(train_sentences[i])\n",
        "  print(emoji.emojize(emoji_dict[train_labels[i]]))"
      ],
      "execution_count": 131,
      "outputs": [
        {
          "output_type": "stream",
          "text": [
            "never talk to me again\n",
            "😞\n",
            "I am proud of your achievements\n",
            "😁\n",
            "It is the worst day in my life\n",
            "😞\n",
            "Miss you so much\n",
            "💓\n",
            "food is life\n",
            "🍴\n"
          ],
          "name": "stdout"
        }
      ]
    },
    {
      "cell_type": "code",
      "metadata": {
        "id": "7pqrtzOJ-047",
        "colab_type": "code",
        "colab": {}
      },
      "source": [
        ""
      ],
      "execution_count": 0,
      "outputs": []
    },
    {
      "cell_type": "markdown",
      "metadata": {
        "id": "9eUf-YYGAVbP",
        "colab_type": "text"
      },
      "source": [
        "### Converting sentences into embeddings"
      ]
    },
    {
      "cell_type": "code",
      "metadata": {
        "id": "dWxeutJXATzF",
        "colab_type": "code",
        "colab": {}
      },
      "source": [
        "# !unzip /content/drive/My\\ Drive/glove6b50dtxt"
      ],
      "execution_count": 0,
      "outputs": []
    },
    {
      "cell_type": "code",
      "metadata": {
        "id": "yEkICchGAv51",
        "colab_type": "code",
        "colab": {}
      },
      "source": [
        "glove = open('glove.6B.50d.txt')"
      ],
      "execution_count": 0,
      "outputs": []
    },
    {
      "cell_type": "code",
      "metadata": {
        "id": "DgdA8rxeBBHS",
        "colab_type": "code",
        "colab": {}
      },
      "source": [
        "embedding_index = {}\n",
        "\n",
        "for line in glove:\n",
        "  values = line.split()\n",
        "  word = values[0]\n",
        "  vec = np.asarray(values[1:], dtype='float')\n",
        "  embedding_index[word] = vec\n",
        "\n",
        "glove.close()"
      ],
      "execution_count": 0,
      "outputs": []
    },
    {
      "cell_type": "code",
      "metadata": {
        "id": "_EPJ-mXuBhyR",
        "colab_type": "code",
        "colab": {}
      },
      "source": [
        "emb_dim = embedding_index['eat'].shape[0]"
      ],
      "execution_count": 0,
      "outputs": []
    },
    {
      "cell_type": "markdown",
      "metadata": {
        "id": "cpMnmWFpE3KR",
        "colab_type": "text"
      },
      "source": [
        "## converting sentences into word embeddings"
      ]
    },
    {
      "cell_type": "code",
      "metadata": {
        "id": "R4BFQiNUEOaU",
        "colab_type": "code",
        "colab": {}
      },
      "source": [
        "def embedding_output(x):\n",
        "  max_len = 10\n",
        "  embedding_out = np.zeros((x.shape[0], max_len, emb_dim))\n",
        "  for i in range(x.shape[0]):\n",
        "    x[i] = x[i].split()\n",
        "    for j in range(len(x[i])):\n",
        "      try:\n",
        "        embedding_out[i][j] = embedding_index[x[i][j].lower()]\n",
        "      except:\n",
        "        embedding_out[i][j] = np.zeros((50, ))\n",
        "        \n",
        "  return embedding_out\n",
        "  "
      ],
      "execution_count": 0,
      "outputs": []
    },
    {
      "cell_type": "code",
      "metadata": {
        "id": "RUZ8IrX5K_n8",
        "colab_type": "code",
        "colab": {}
      },
      "source": [
        "x_train = embedding_output(train_sentences)\n",
        "x_test = embedding_output(test_sentences)"
      ],
      "execution_count": 0,
      "outputs": []
    },
    {
      "cell_type": "code",
      "metadata": {
        "id": "c4SndmZwLHyJ",
        "colab_type": "code",
        "colab": {
          "base_uri": "https://localhost:8080/",
          "height": 34
        },
        "outputId": "e28a7525-a691-45c8-b72a-47fbc2e304a9"
      },
      "source": [
        "x_test[0].shape"
      ],
      "execution_count": 139,
      "outputs": [
        {
          "output_type": "execute_result",
          "data": {
            "text/plain": [
              "(10, 50)"
            ]
          },
          "metadata": {
            "tags": []
          },
          "execution_count": 139
        }
      ]
    },
    {
      "cell_type": "code",
      "metadata": {
        "id": "6YvTeU3bLMQp",
        "colab_type": "code",
        "colab": {
          "base_uri": "https://localhost:8080/",
          "height": 52
        },
        "outputId": "b4d40985-7a13-446f-b1ce-dbec5659103c"
      },
      "source": [
        "print(x_train.shape)\n",
        "print(x_test.shape)"
      ],
      "execution_count": 140,
      "outputs": [
        {
          "output_type": "stream",
          "text": [
            "(132, 10, 50)\n",
            "(56, 10, 50)\n"
          ],
          "name": "stdout"
        }
      ]
    },
    {
      "cell_type": "code",
      "metadata": {
        "id": "gLnELMB7V489",
        "colab_type": "code",
        "colab": {}
      },
      "source": [
        ""
      ],
      "execution_count": 0,
      "outputs": []
    },
    {
      "cell_type": "markdown",
      "metadata": {
        "id": "eKKrXTDjOit_",
        "colab_type": "text"
      },
      "source": [
        "### Creating LSTM Architecture"
      ]
    },
    {
      "cell_type": "code",
      "metadata": {
        "id": "c_gu1WRkOfMl",
        "colab_type": "code",
        "colab": {}
      },
      "source": [
        "import keras\n",
        "from keras.models import *\n",
        "from keras.layers import *"
      ],
      "execution_count": 0,
      "outputs": []
    },
    {
      "cell_type": "code",
      "metadata": {
        "id": "-A_wqGX1V-ll",
        "colab_type": "code",
        "colab": {}
      },
      "source": [
        "y_train = keras.utils.np_utils.to_categorical(train_labels)\n",
        "y_test = keras.utils.np_utils.to_categorical(test_labels)"
      ],
      "execution_count": 0,
      "outputs": []
    },
    {
      "cell_type": "code",
      "metadata": {
        "id": "xCrLXLVOUveC",
        "colab_type": "code",
        "colab": {}
      },
      "source": [
        "model = Sequential()"
      ],
      "execution_count": 0,
      "outputs": []
    },
    {
      "cell_type": "code",
      "metadata": {
        "id": "WkGa4fc0U1rb",
        "colab_type": "code",
        "colab": {}
      },
      "source": [
        "model.add(LSTM(64, input_shape = (10, 50), return_sequences=True)) # return seq for stacked LSTM\n",
        "model.add(Dropout(0.25))\n",
        "model.add(LSTM(64, return_sequences=False))\n",
        "model.add(Dropout(0.25))\n",
        "model.add(Dense(5, activation='softmax'))"
      ],
      "execution_count": 0,
      "outputs": []
    },
    {
      "cell_type": "code",
      "metadata": {
        "id": "AfaK-dJGVWV1",
        "colab_type": "code",
        "colab": {}
      },
      "source": [
        "model.compile(loss='categorical_crossentropy', optimizer='adam', metrics=['accuracy'])"
      ],
      "execution_count": 0,
      "outputs": []
    },
    {
      "cell_type": "code",
      "metadata": {
        "id": "FJpSvlrbVdpO",
        "colab_type": "code",
        "colab": {
          "base_uri": "https://localhost:8080/",
          "height": 312
        },
        "outputId": "202e0c1e-5dcd-4160-f8b2-6b1487ea6a84"
      },
      "source": [
        "model.summary()"
      ],
      "execution_count": 169,
      "outputs": [
        {
          "output_type": "stream",
          "text": [
            "_________________________________________________________________\n",
            "Layer (type)                 Output Shape              Param #   \n",
            "=================================================================\n",
            "lstm_2 (LSTM)                (None, 10, 64)            29440     \n",
            "_________________________________________________________________\n",
            "dropout_2 (Dropout)          (None, 10, 64)            0         \n",
            "_________________________________________________________________\n",
            "lstm_3 (LSTM)                (None, 64)                33024     \n",
            "_________________________________________________________________\n",
            "dropout_3 (Dropout)          (None, 64)                0         \n",
            "_________________________________________________________________\n",
            "dense_2 (Dense)              (None, 5)                 325       \n",
            "=================================================================\n",
            "Total params: 62,789\n",
            "Trainable params: 62,789\n",
            "Non-trainable params: 0\n",
            "_________________________________________________________________\n"
          ],
          "name": "stdout"
        }
      ]
    },
    {
      "cell_type": "code",
      "metadata": {
        "id": "bfkY6W9gWndH",
        "colab_type": "code",
        "colab": {}
      },
      "source": [
        "es =  keras.callbacks.EarlyStopping(monitor='val_acc', min_delta=0.05, patience=10)\n",
        "cp = keras.callbacks.ModelCheckpoint('emoji_prediction_weights.h5',save_best_only=True, save_weights_only=True)"
      ],
      "execution_count": 0,
      "outputs": []
    },
    {
      "cell_type": "code",
      "metadata": {
        "id": "gMtMcVGhVfnK",
        "colab_type": "code",
        "colab": {
          "base_uri": "https://localhost:8080/",
          "height": 436
        },
        "outputId": "fa264fab-9a47-407e-9827-bf88436b95ea"
      },
      "source": [
        "# time to train the model\n",
        "\n",
        "hist = model.fit(x_train, y_train, batch_size=64, epochs=50, shuffle=True, validation_split=0.2, callbacks=[cp, es])"
      ],
      "execution_count": 178,
      "outputs": [
        {
          "output_type": "stream",
          "text": [
            "Train on 105 samples, validate on 27 samples\n",
            "Epoch 1/50\n",
            "105/105 [==============================] - 0s 1ms/step - loss: 0.2736 - acc: 0.8952 - val_loss: 1.1589 - val_acc: 0.7037\n",
            "Epoch 2/50\n",
            "105/105 [==============================] - 0s 1ms/step - loss: 0.2499 - acc: 0.9143 - val_loss: 1.2756 - val_acc: 0.6667\n",
            "Epoch 3/50\n",
            "105/105 [==============================] - 0s 1ms/step - loss: 0.2278 - acc: 0.9333 - val_loss: 1.2784 - val_acc: 0.7037\n",
            "Epoch 4/50\n",
            "105/105 [==============================] - 0s 1ms/step - loss: 0.2755 - acc: 0.9143 - val_loss: 1.2139 - val_acc: 0.6667\n",
            "Epoch 5/50\n",
            "105/105 [==============================] - 0s 1ms/step - loss: 0.2411 - acc: 0.9333 - val_loss: 1.1330 - val_acc: 0.7037\n",
            "Epoch 6/50\n",
            "105/105 [==============================] - 0s 1ms/step - loss: 0.1873 - acc: 0.9524 - val_loss: 1.1940 - val_acc: 0.7407\n",
            "Epoch 7/50\n",
            "105/105 [==============================] - 0s 1ms/step - loss: 0.2442 - acc: 0.9333 - val_loss: 1.2344 - val_acc: 0.6667\n",
            "Epoch 8/50\n",
            "105/105 [==============================] - 0s 1ms/step - loss: 0.1796 - acc: 0.9524 - val_loss: 1.3772 - val_acc: 0.6667\n",
            "Epoch 9/50\n",
            "105/105 [==============================] - 0s 1ms/step - loss: 0.1874 - acc: 0.9524 - val_loss: 1.3628 - val_acc: 0.7037\n",
            "Epoch 10/50\n",
            "105/105 [==============================] - 0s 1ms/step - loss: 0.1357 - acc: 0.9619 - val_loss: 1.4028 - val_acc: 0.6667\n",
            "Epoch 11/50\n",
            "105/105 [==============================] - 0s 1ms/step - loss: 0.1704 - acc: 0.9524 - val_loss: 1.3456 - val_acc: 0.6667\n"
          ],
          "name": "stdout"
        }
      ]
    },
    {
      "cell_type": "code",
      "metadata": {
        "id": "U64mJlnHXJyD",
        "colab_type": "code",
        "colab": {
          "base_uri": "https://localhost:8080/",
          "height": 52
        },
        "outputId": "6fe79954-9ab2-41ce-e19e-8769552a80ca"
      },
      "source": [
        "model.evaluate(x_test, y_test)"
      ],
      "execution_count": 179,
      "outputs": [
        {
          "output_type": "stream",
          "text": [
            "56/56 [==============================] - 0s 749us/step\n"
          ],
          "name": "stdout"
        },
        {
          "output_type": "execute_result",
          "data": {
            "text/plain": [
              "[1.9255683081490653, 0.5535714370863778]"
            ]
          },
          "metadata": {
            "tags": []
          },
          "execution_count": 179
        }
      ]
    },
    {
      "cell_type": "code",
      "metadata": {
        "id": "uxADVlGuXaOp",
        "colab_type": "code",
        "colab": {}
      },
      "source": [
        "pred = model.predict_classes(x_test)"
      ],
      "execution_count": 0,
      "outputs": []
    },
    {
      "cell_type": "code",
      "metadata": {
        "id": "g_Y4fkA2aTGx",
        "colab_type": "code",
        "colab": {
          "base_uri": "https://localhost:8080/",
          "height": 34
        },
        "outputId": "3214463b-f2f6-428b-fb6f-4c3ba9d6049b"
      },
      "source": [
        "pred[:5]"
      ],
      "execution_count": 181,
      "outputs": [
        {
          "output_type": "execute_result",
          "data": {
            "text/plain": [
              "array([4, 3, 2, 2, 2])"
            ]
          },
          "metadata": {
            "tags": []
          },
          "execution_count": 181
        }
      ]
    },
    {
      "cell_type": "code",
      "metadata": {
        "id": "9O740-awaXO0",
        "colab_type": "code",
        "colab": {}
      },
      "source": [
        "model.load_weights('emoji_prediction_weights.h5')"
      ],
      "execution_count": 0,
      "outputs": []
    },
    {
      "cell_type": "code",
      "metadata": {
        "id": "LL0lx4eFbFIe",
        "colab_type": "code",
        "colab": {
          "base_uri": "https://localhost:8080/",
          "height": 52
        },
        "outputId": "5e26da11-9818-4de3-bb1e-cb9a314b2d45"
      },
      "source": [
        "model.evaluate(x_test, y_test)"
      ],
      "execution_count": 183,
      "outputs": [
        {
          "output_type": "stream",
          "text": [
            "56/56 [==============================] - 0s 759us/step\n"
          ],
          "name": "stdout"
        },
        {
          "output_type": "execute_result",
          "data": {
            "text/plain": [
              "[1.758664880480085, 0.44642857568604605]"
            ]
          },
          "metadata": {
            "tags": []
          },
          "execution_count": 183
        }
      ]
    },
    {
      "cell_type": "code",
      "metadata": {
        "id": "8BtdAvV_bGhI",
        "colab_type": "code",
        "colab": {
          "base_uri": "https://localhost:8080/",
          "height": 191
        },
        "outputId": "446f9bc0-5c1e-4250-e010-79261c797a57"
      },
      "source": [
        "for i in range(5):\n",
        "  print(test_sentences[i])\n",
        "  print(emoji.emojize(emoji_dict[pred[i]]))"
      ],
      "execution_count": 187,
      "outputs": [
        {
          "output_type": "stream",
          "text": [
            "['I', 'want', 'to', 'eat']\n",
            "🍴\n",
            "['he', 'did', 'not', 'answer']\n",
            "😞\n",
            "['he', 'got', 'a', 'raise']\n",
            "😁\n",
            "['she', 'got', 'me', 'a', 'present']\n",
            "😁\n",
            "['ha', 'ha', 'ha', 'it', 'was', 'so', 'funny']\n",
            "😁\n"
          ],
          "name": "stdout"
        }
      ]
    },
    {
      "cell_type": "code",
      "metadata": {
        "id": "9vImdMJJdrm8",
        "colab_type": "code",
        "colab": {}
      },
      "source": [
        ""
      ],
      "execution_count": 0,
      "outputs": []
    }
  ]
}